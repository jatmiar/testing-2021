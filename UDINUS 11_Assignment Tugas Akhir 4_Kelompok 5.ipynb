{
 "cells": [
  {
   "cell_type": "markdown",
   "id": "881e599b",
   "metadata": {},
   "source": [
    "# Tugas Eksplorasi dan Persiapan Data untuk Membangun Model"
   ]
  },
  {
   "cell_type": "code",
   "execution_count": 50,
   "id": "ff613429",
   "metadata": {},
   "outputs": [],
   "source": [
    "#Import Package\n",
    "# import library pandas\n",
    "import pandas as pd\n",
    "import hvplot.pandas\n",
    "\n",
    "# Import library numpy\n",
    "import numpy as np\n",
    "\n",
    "# Import library os\n",
    "import os\n",
    "\n",
    "# Import library matplotlib dan seaborn untuk visualisasi\n",
    "import matplotlib.pyplot as plt\n",
    "import seaborn as sns\n",
    "%matplotlib inline\n",
    "\n",
    "# Import Module LinearRegression digunakan untuk memanggil algoritma Linear Regression.\n",
    "from sklearn.linear_model import LinearRegression\n",
    "\n",
    "# import Module train_test_split digunakan untuk membagi data kita menjadi training dan testing set.\n",
    "from sklearn.model_selection import train_test_split\n",
    "\n",
    "# import modul mean_absolute_error dari library sklearn\n",
    "from sklearn.metrics import mean_absolute_error as MAE\n",
    "\n",
    "#import math agar program dapat menggunakan semua fungsi yang ada pada modul math.(ex:sqrt)\n",
    "import math\n",
    "\n",
    "# me-non aktifkan peringatan pada python\n",
    "import warnings \n",
    "warnings.filterwarnings('ignore')"
   ]
  },
  {
   "cell_type": "code",
   "execution_count": 51,
   "id": "8dce9e8b",
   "metadata": {},
   "outputs": [
    {
     "data": {
      "text/html": [
       "<div>\n",
       "<style scoped>\n",
       "    .dataframe tbody tr th:only-of-type {\n",
       "        vertical-align: middle;\n",
       "    }\n",
       "\n",
       "    .dataframe tbody tr th {\n",
       "        vertical-align: top;\n",
       "    }\n",
       "\n",
       "    .dataframe thead th {\n",
       "        text-align: right;\n",
       "    }\n",
       "</style>\n",
       "<table border=\"1\" class=\"dataframe\">\n",
       "  <thead>\n",
       "    <tr style=\"text-align: right;\">\n",
       "      <th></th>\n",
       "      <th>Kabupaten/Kota</th>\n",
       "      <th>Wilayah</th>\n",
       "      <th>Kasus Covid-19 (31 Des 2020)</th>\n",
       "      <th>TPAK</th>\n",
       "      <th>TPT</th>\n",
       "      <th>Indeks Kedalaman Kemiskinan</th>\n",
       "      <th>IPM</th>\n",
       "      <th>Kategori IPM</th>\n",
       "      <th>Laju PDRB ADHK</th>\n",
       "    </tr>\n",
       "  </thead>\n",
       "  <tbody>\n",
       "    <tr>\n",
       "      <th>0</th>\n",
       "      <td>Bogor</td>\n",
       "      <td>Kabupaten</td>\n",
       "      <td>4428</td>\n",
       "      <td>65.42</td>\n",
       "      <td>9.06</td>\n",
       "      <td>0.83</td>\n",
       "      <td>70.40</td>\n",
       "      <td>Tinggi</td>\n",
       "      <td>5.85</td>\n",
       "    </tr>\n",
       "    <tr>\n",
       "      <th>1</th>\n",
       "      <td>Sukabumi</td>\n",
       "      <td>Kabupaten</td>\n",
       "      <td>2486</td>\n",
       "      <td>62.68</td>\n",
       "      <td>7.99</td>\n",
       "      <td>0.80</td>\n",
       "      <td>66.88</td>\n",
       "      <td>Sedang</td>\n",
       "      <td>5.75</td>\n",
       "    </tr>\n",
       "    <tr>\n",
       "      <th>2</th>\n",
       "      <td>Cianjur</td>\n",
       "      <td>Kabupaten</td>\n",
       "      <td>209</td>\n",
       "      <td>66.14</td>\n",
       "      <td>9.72</td>\n",
       "      <td>1.38</td>\n",
       "      <td>65.36</td>\n",
       "      <td>Sedang</td>\n",
       "      <td>5.47</td>\n",
       "    </tr>\n",
       "    <tr>\n",
       "      <th>3</th>\n",
       "      <td>Bandung</td>\n",
       "      <td>Kabupaten</td>\n",
       "      <td>5944</td>\n",
       "      <td>65.38</td>\n",
       "      <td>5.48</td>\n",
       "      <td>0.92</td>\n",
       "      <td>72.39</td>\n",
       "      <td>Tinggi</td>\n",
       "      <td>6.09</td>\n",
       "    </tr>\n",
       "    <tr>\n",
       "      <th>4</th>\n",
       "      <td>Garut</td>\n",
       "      <td>Kabupaten</td>\n",
       "      <td>3893</td>\n",
       "      <td>62.70</td>\n",
       "      <td>7.28</td>\n",
       "      <td>0.97</td>\n",
       "      <td>66.12</td>\n",
       "      <td>Sedang</td>\n",
       "      <td>5.02</td>\n",
       "    </tr>\n",
       "    <tr>\n",
       "      <th>5</th>\n",
       "      <td>Tasikmalaya</td>\n",
       "      <td>Kabupaten</td>\n",
       "      <td>499</td>\n",
       "      <td>66.66</td>\n",
       "      <td>6.25</td>\n",
       "      <td>0.83</td>\n",
       "      <td>65.67</td>\n",
       "      <td>Sedang</td>\n",
       "      <td>5.43</td>\n",
       "    </tr>\n",
       "    <tr>\n",
       "      <th>6</th>\n",
       "      <td>Ciamis</td>\n",
       "      <td>Kabupaten</td>\n",
       "      <td>1415</td>\n",
       "      <td>67.56</td>\n",
       "      <td>5.10</td>\n",
       "      <td>0.92</td>\n",
       "      <td>70.49</td>\n",
       "      <td>Tinggi</td>\n",
       "      <td>5.38</td>\n",
       "    </tr>\n",
       "    <tr>\n",
       "      <th>7</th>\n",
       "      <td>Kuningan</td>\n",
       "      <td>Kabupaten</td>\n",
       "      <td>1936</td>\n",
       "      <td>61.31</td>\n",
       "      <td>9.61</td>\n",
       "      <td>2.41</td>\n",
       "      <td>69.38</td>\n",
       "      <td>Tinggi</td>\n",
       "      <td>6.56</td>\n",
       "    </tr>\n",
       "    <tr>\n",
       "      <th>8</th>\n",
       "      <td>Cirebon</td>\n",
       "      <td>Kabupaten</td>\n",
       "      <td>2844</td>\n",
       "      <td>65.38</td>\n",
       "      <td>10.28</td>\n",
       "      <td>1.30</td>\n",
       "      <td>68.75</td>\n",
       "      <td>Sedang</td>\n",
       "      <td>4.86</td>\n",
       "    </tr>\n",
       "    <tr>\n",
       "      <th>9</th>\n",
       "      <td>Majalengka</td>\n",
       "      <td>Kabupaten</td>\n",
       "      <td>1514</td>\n",
       "      <td>67.97</td>\n",
       "      <td>4.37</td>\n",
       "      <td>1.41</td>\n",
       "      <td>67.59</td>\n",
       "      <td>Sedang</td>\n",
       "      <td>7.14</td>\n",
       "    </tr>\n",
       "    <tr>\n",
       "      <th>10</th>\n",
       "      <td>Sumedang</td>\n",
       "      <td>Kabupaten</td>\n",
       "      <td>1299</td>\n",
       "      <td>63.98</td>\n",
       "      <td>7.63</td>\n",
       "      <td>1.72</td>\n",
       "      <td>71.64</td>\n",
       "      <td>Tinggi</td>\n",
       "      <td>6.32</td>\n",
       "    </tr>\n",
       "    <tr>\n",
       "      <th>11</th>\n",
       "      <td>Indramayu</td>\n",
       "      <td>Kabupaten</td>\n",
       "      <td>790</td>\n",
       "      <td>67.89</td>\n",
       "      <td>8.28</td>\n",
       "      <td>2.18</td>\n",
       "      <td>67.29</td>\n",
       "      <td>Sedang</td>\n",
       "      <td>3.20</td>\n",
       "    </tr>\n",
       "    <tr>\n",
       "      <th>12</th>\n",
       "      <td>Subang</td>\n",
       "      <td>Kabupaten</td>\n",
       "      <td>1153</td>\n",
       "      <td>67.88</td>\n",
       "      <td>8.59</td>\n",
       "      <td>1.29</td>\n",
       "      <td>68.95</td>\n",
       "      <td>Sedang</td>\n",
       "      <td>4.27</td>\n",
       "    </tr>\n",
       "    <tr>\n",
       "      <th>13</th>\n",
       "      <td>Purwakarta</td>\n",
       "      <td>Kabupaten</td>\n",
       "      <td>1804</td>\n",
       "      <td>63.93</td>\n",
       "      <td>9.65</td>\n",
       "      <td>1.04</td>\n",
       "      <td>70.82</td>\n",
       "      <td>Tinggi</td>\n",
       "      <td>4.38</td>\n",
       "    </tr>\n",
       "    <tr>\n",
       "      <th>14</th>\n",
       "      <td>Karawang</td>\n",
       "      <td>Kabupaten</td>\n",
       "      <td>8104</td>\n",
       "      <td>63.62</td>\n",
       "      <td>9.61</td>\n",
       "      <td>1.28</td>\n",
       "      <td>70.66</td>\n",
       "      <td>Tinggi</td>\n",
       "      <td>4.06</td>\n",
       "    </tr>\n",
       "    <tr>\n",
       "      <th>15</th>\n",
       "      <td>Bekasi</td>\n",
       "      <td>Kabupaten</td>\n",
       "      <td>11269</td>\n",
       "      <td>64.03</td>\n",
       "      <td>8.94</td>\n",
       "      <td>0.72</td>\n",
       "      <td>74.07</td>\n",
       "      <td>Tinggi</td>\n",
       "      <td>4.18</td>\n",
       "    </tr>\n",
       "    <tr>\n",
       "      <th>16</th>\n",
       "      <td>Bandung Barat</td>\n",
       "      <td>Kabupaten</td>\n",
       "      <td>2037</td>\n",
       "      <td>62.09</td>\n",
       "      <td>8.17</td>\n",
       "      <td>1.40</td>\n",
       "      <td>68.08</td>\n",
       "      <td>Sedang</td>\n",
       "      <td>5.05</td>\n",
       "    </tr>\n",
       "    <tr>\n",
       "      <th>17</th>\n",
       "      <td>Pangandaran</td>\n",
       "      <td>Kabupaten</td>\n",
       "      <td>137</td>\n",
       "      <td>75.18</td>\n",
       "      <td>4.48</td>\n",
       "      <td>1.32</td>\n",
       "      <td>68.06</td>\n",
       "      <td>Sedang</td>\n",
       "      <td>5.96</td>\n",
       "    </tr>\n",
       "    <tr>\n",
       "      <th>18</th>\n",
       "      <td>Kota Bogor</td>\n",
       "      <td>Kota</td>\n",
       "      <td>3644</td>\n",
       "      <td>63.73</td>\n",
       "      <td>9.10</td>\n",
       "      <td>1.08</td>\n",
       "      <td>76.11</td>\n",
       "      <td>Tinggi</td>\n",
       "      <td>6.04</td>\n",
       "    </tr>\n",
       "    <tr>\n",
       "      <th>19</th>\n",
       "      <td>Kota Sukabumi</td>\n",
       "      <td>Kota</td>\n",
       "      <td>1767</td>\n",
       "      <td>62.56</td>\n",
       "      <td>8.44</td>\n",
       "      <td>1.17</td>\n",
       "      <td>74.21</td>\n",
       "      <td>Tinggi</td>\n",
       "      <td>5.49</td>\n",
       "    </tr>\n",
       "    <tr>\n",
       "      <th>20</th>\n",
       "      <td>Kota Bandung</td>\n",
       "      <td>Kota</td>\n",
       "      <td>7907</td>\n",
       "      <td>65.98</td>\n",
       "      <td>8.16</td>\n",
       "      <td>0.61</td>\n",
       "      <td>81.51</td>\n",
       "      <td>Sangat Tinggi</td>\n",
       "      <td>6.79</td>\n",
       "    </tr>\n",
       "    <tr>\n",
       "      <th>21</th>\n",
       "      <td>Kota Cirebon</td>\n",
       "      <td>Kota</td>\n",
       "      <td>585</td>\n",
       "      <td>62.84</td>\n",
       "      <td>8.98</td>\n",
       "      <td>1.68</td>\n",
       "      <td>74.89</td>\n",
       "      <td>Tinggi</td>\n",
       "      <td>6.29</td>\n",
       "    </tr>\n",
       "    <tr>\n",
       "      <th>22</th>\n",
       "      <td>Kota Bekasi</td>\n",
       "      <td>Kota</td>\n",
       "      <td>19136</td>\n",
       "      <td>65.70</td>\n",
       "      <td>8.23</td>\n",
       "      <td>0.60</td>\n",
       "      <td>81.50</td>\n",
       "      <td>Sangat Tinggi</td>\n",
       "      <td>5.41</td>\n",
       "    </tr>\n",
       "    <tr>\n",
       "      <th>23</th>\n",
       "      <td>Kota Depok</td>\n",
       "      <td>Kota</td>\n",
       "      <td>22256</td>\n",
       "      <td>65.03</td>\n",
       "      <td>6.11</td>\n",
       "      <td>0.29</td>\n",
       "      <td>80.97</td>\n",
       "      <td>Sangat Tinggi</td>\n",
       "      <td>6.74</td>\n",
       "    </tr>\n",
       "    <tr>\n",
       "      <th>24</th>\n",
       "      <td>Kota Cimahi</td>\n",
       "      <td>Kota</td>\n",
       "      <td>3206</td>\n",
       "      <td>63.39</td>\n",
       "      <td>8.08</td>\n",
       "      <td>0.75</td>\n",
       "      <td>77.83</td>\n",
       "      <td>Tinggi</td>\n",
       "      <td>6.84</td>\n",
       "    </tr>\n",
       "    <tr>\n",
       "      <th>25</th>\n",
       "      <td>Kota Tasikmalaya</td>\n",
       "      <td>Kota</td>\n",
       "      <td>2735</td>\n",
       "      <td>65.38</td>\n",
       "      <td>6.75</td>\n",
       "      <td>1.75</td>\n",
       "      <td>73.04</td>\n",
       "      <td>Tinggi</td>\n",
       "      <td>5.97</td>\n",
       "    </tr>\n",
       "    <tr>\n",
       "      <th>26</th>\n",
       "      <td>Kota Banjar</td>\n",
       "      <td>Kota</td>\n",
       "      <td>469</td>\n",
       "      <td>67.69</td>\n",
       "      <td>6.10</td>\n",
       "      <td>0.70</td>\n",
       "      <td>71.70</td>\n",
       "      <td>Tinggi</td>\n",
       "      <td>5.02</td>\n",
       "    </tr>\n",
       "  </tbody>\n",
       "</table>\n",
       "</div>"
      ],
      "text/plain": [
       "      Kabupaten/Kota    Wilayah  Kasus Covid-19 (31 Des 2020)   TPAK    TPT  \\\n",
       "0              Bogor  Kabupaten                          4428  65.42   9.06   \n",
       "1           Sukabumi  Kabupaten                          2486  62.68   7.99   \n",
       "2            Cianjur  Kabupaten                           209  66.14   9.72   \n",
       "3            Bandung  Kabupaten                          5944  65.38   5.48   \n",
       "4              Garut  Kabupaten                          3893  62.70   7.28   \n",
       "5        Tasikmalaya  Kabupaten                           499  66.66   6.25   \n",
       "6             Ciamis  Kabupaten                          1415  67.56   5.10   \n",
       "7           Kuningan  Kabupaten                          1936  61.31   9.61   \n",
       "8            Cirebon  Kabupaten                          2844  65.38  10.28   \n",
       "9         Majalengka  Kabupaten                          1514  67.97   4.37   \n",
       "10          Sumedang  Kabupaten                          1299  63.98   7.63   \n",
       "11         Indramayu  Kabupaten                           790  67.89   8.28   \n",
       "12            Subang  Kabupaten                          1153  67.88   8.59   \n",
       "13        Purwakarta  Kabupaten                          1804  63.93   9.65   \n",
       "14          Karawang  Kabupaten                          8104  63.62   9.61   \n",
       "15            Bekasi  Kabupaten                         11269  64.03   8.94   \n",
       "16     Bandung Barat  Kabupaten                          2037  62.09   8.17   \n",
       "17       Pangandaran  Kabupaten                           137  75.18   4.48   \n",
       "18        Kota Bogor       Kota                          3644  63.73   9.10   \n",
       "19     Kota Sukabumi       Kota                          1767  62.56   8.44   \n",
       "20      Kota Bandung       Kota                          7907  65.98   8.16   \n",
       "21      Kota Cirebon       Kota                           585  62.84   8.98   \n",
       "22       Kota Bekasi       Kota                         19136  65.70   8.23   \n",
       "23        Kota Depok       Kota                         22256  65.03   6.11   \n",
       "24       Kota Cimahi       Kota                          3206  63.39   8.08   \n",
       "25  Kota Tasikmalaya       Kota                          2735  65.38   6.75   \n",
       "26       Kota Banjar       Kota                           469  67.69   6.10   \n",
       "\n",
       "    Indeks Kedalaman Kemiskinan    IPM   Kategori IPM  Laju PDRB ADHK  \n",
       "0                          0.83  70.40         Tinggi            5.85  \n",
       "1                          0.80  66.88         Sedang            5.75  \n",
       "2                          1.38  65.36         Sedang            5.47  \n",
       "3                          0.92  72.39         Tinggi            6.09  \n",
       "4                          0.97  66.12         Sedang            5.02  \n",
       "5                          0.83  65.67         Sedang            5.43  \n",
       "6                          0.92  70.49         Tinggi            5.38  \n",
       "7                          2.41  69.38         Tinggi            6.56  \n",
       "8                          1.30  68.75         Sedang            4.86  \n",
       "9                          1.41  67.59         Sedang            7.14  \n",
       "10                         1.72  71.64         Tinggi            6.32  \n",
       "11                         2.18  67.29         Sedang            3.20  \n",
       "12                         1.29  68.95         Sedang            4.27  \n",
       "13                         1.04  70.82         Tinggi            4.38  \n",
       "14                         1.28  70.66         Tinggi            4.06  \n",
       "15                         0.72  74.07         Tinggi            4.18  \n",
       "16                         1.40  68.08         Sedang            5.05  \n",
       "17                         1.32  68.06         Sedang            5.96  \n",
       "18                         1.08  76.11         Tinggi            6.04  \n",
       "19                         1.17  74.21         Tinggi            5.49  \n",
       "20                         0.61  81.51  Sangat Tinggi            6.79  \n",
       "21                         1.68  74.89         Tinggi            6.29  \n",
       "22                         0.60  81.50  Sangat Tinggi            5.41  \n",
       "23                         0.29  80.97  Sangat Tinggi            6.74  \n",
       "24                         0.75  77.83         Tinggi            6.84  \n",
       "25                         1.75  73.04         Tinggi            5.97  \n",
       "26                         0.70  71.70         Tinggi            5.02  "
      ]
     },
     "execution_count": 51,
     "metadata": {},
     "output_type": "execute_result"
    }
   ],
   "source": [
    "#Import Dataset\n",
    "data = pd.read_csv(\"Data Pertumbuhan Ekonomi Jawa Barat.csv\")\n",
    "data"
   ]
  },
  {
   "cell_type": "code",
   "execution_count": 52,
   "id": "c9401cba",
   "metadata": {},
   "outputs": [
    {
     "name": "stdout",
     "output_type": "stream",
     "text": [
      "<class 'pandas.core.frame.DataFrame'>\n",
      "RangeIndex: 27 entries, 0 to 26\n",
      "Data columns (total 9 columns):\n",
      " #   Column                        Non-Null Count  Dtype  \n",
      "---  ------                        --------------  -----  \n",
      " 0   Kabupaten/Kota                27 non-null     object \n",
      " 1   Wilayah                       27 non-null     object \n",
      " 2   Kasus Covid-19 (31 Des 2020)  27 non-null     int64  \n",
      " 3   TPAK                          27 non-null     float64\n",
      " 4   TPT                           27 non-null     float64\n",
      " 5   Indeks Kedalaman Kemiskinan   27 non-null     float64\n",
      " 6   IPM                           27 non-null     float64\n",
      " 7   Kategori IPM                  27 non-null     object \n",
      " 8   Laju PDRB ADHK                27 non-null     float64\n",
      "dtypes: float64(5), int64(1), object(3)\n",
      "memory usage: 2.0+ KB\n"
     ]
    }
   ],
   "source": [
    "#Tipe Data dari Dataset\n",
    "data.info()"
   ]
  },
  {
   "cell_type": "markdown",
   "id": "df4eafdb",
   "metadata": {},
   "source": [
    "Diketahui bahwa untuk kolom:\n",
    "-Kabupaten/kota, Wilayah, Kategori IPM memiliki tipe data object\n",
    "-Kasus Covid-19 (31 Des 2020) memiliki tipe data int64\n",
    "-TPAK, TPT, Indeks Kedalaman Kemiskinan, IPM, Laju PDRB ADHK memiliki tipe data float64"
   ]
  },
  {
   "cell_type": "code",
   "execution_count": 53,
   "id": "1ac77cca",
   "metadata": {},
   "outputs": [
    {
     "data": {
      "text/plain": [
       "(27, 9)"
      ]
     },
     "execution_count": 53,
     "metadata": {},
     "output_type": "execute_result"
    }
   ],
   "source": [
    "#Ukuran (jumlah baris dan kolom) dari data\n",
    "data.shape"
   ]
  },
  {
   "cell_type": "markdown",
   "id": "9cf8fd8b",
   "metadata": {},
   "source": [
    "Artinya data yang digunakan terdiri atas 27 baris dan 9 kolom"
   ]
  },
  {
   "cell_type": "code",
   "execution_count": 54,
   "id": "086f9b23",
   "metadata": {},
   "outputs": [
    {
     "data": {
      "text/plain": [
       "Kabupaten/Kota                  0\n",
       "Wilayah                         0\n",
       "Kasus Covid-19 (31 Des 2020)    0\n",
       "TPAK                            0\n",
       "TPT                             0\n",
       "Indeks Kedalaman Kemiskinan     0\n",
       "IPM                             0\n",
       "Kategori IPM                    0\n",
       "Laju PDRB ADHK                  0\n",
       "dtype: int64"
      ]
     },
     "execution_count": 54,
     "metadata": {},
     "output_type": "execute_result"
    }
   ],
   "source": [
    "#Deteksi Adanya Missing Value pada Data\n",
    "np.sum(data.isnull()) "
   ]
  },
  {
   "cell_type": "markdown",
   "id": "a57754e8",
   "metadata": {},
   "source": [
    "Artinya tidak terdapat missing value pada Data Pertumbuhan Ekonomi Jawa Barat Tahun 2020"
   ]
  },
  {
   "cell_type": "code",
   "execution_count": 55,
   "id": "59ce4eb4",
   "metadata": {},
   "outputs": [
    {
     "data": {
      "text/html": [
       "<div>\n",
       "<style scoped>\n",
       "    .dataframe tbody tr th:only-of-type {\n",
       "        vertical-align: middle;\n",
       "    }\n",
       "\n",
       "    .dataframe tbody tr th {\n",
       "        vertical-align: top;\n",
       "    }\n",
       "\n",
       "    .dataframe thead th {\n",
       "        text-align: right;\n",
       "    }\n",
       "</style>\n",
       "<table border=\"1\" class=\"dataframe\">\n",
       "  <thead>\n",
       "    <tr style=\"text-align: right;\">\n",
       "      <th></th>\n",
       "      <th>Kasus Covid-19 (31 Des 2020)</th>\n",
       "      <th>TPAK</th>\n",
       "      <th>TPT</th>\n",
       "      <th>Indeks Kedalaman Kemiskinan</th>\n",
       "      <th>IPM</th>\n",
       "      <th>Laju PDRB ADHK</th>\n",
       "    </tr>\n",
       "  </thead>\n",
       "  <tbody>\n",
       "    <tr>\n",
       "      <th>count</th>\n",
       "      <td>27.000000</td>\n",
       "      <td>27.000000</td>\n",
       "      <td>27.000000</td>\n",
       "      <td>27.000000</td>\n",
       "      <td>27.000000</td>\n",
       "      <td>27.000000</td>\n",
       "    </tr>\n",
       "    <tr>\n",
       "      <th>mean</th>\n",
       "      <td>4202.444444</td>\n",
       "      <td>65.262963</td>\n",
       "      <td>7.794074</td>\n",
       "      <td>1.161111</td>\n",
       "      <td>71.642963</td>\n",
       "      <td>5.539259</td>\n",
       "    </tr>\n",
       "    <tr>\n",
       "      <th>std</th>\n",
       "      <td>5471.429755</td>\n",
       "      <td>2.771767</td>\n",
       "      <td>1.671253</td>\n",
       "      <td>0.490128</td>\n",
       "      <td>4.722253</td>\n",
       "      <td>0.966699</td>\n",
       "    </tr>\n",
       "    <tr>\n",
       "      <th>min</th>\n",
       "      <td>137.000000</td>\n",
       "      <td>61.310000</td>\n",
       "      <td>4.370000</td>\n",
       "      <td>0.290000</td>\n",
       "      <td>65.360000</td>\n",
       "      <td>3.200000</td>\n",
       "    </tr>\n",
       "    <tr>\n",
       "      <th>25%</th>\n",
       "      <td>1226.000000</td>\n",
       "      <td>63.505000</td>\n",
       "      <td>6.500000</td>\n",
       "      <td>0.815000</td>\n",
       "      <td>68.070000</td>\n",
       "      <td>5.020000</td>\n",
       "    </tr>\n",
       "    <tr>\n",
       "      <th>50%</th>\n",
       "      <td>2037.000000</td>\n",
       "      <td>65.380000</td>\n",
       "      <td>8.170000</td>\n",
       "      <td>1.080000</td>\n",
       "      <td>70.660000</td>\n",
       "      <td>5.490000</td>\n",
       "    </tr>\n",
       "    <tr>\n",
       "      <th>75%</th>\n",
       "      <td>4160.500000</td>\n",
       "      <td>66.400000</td>\n",
       "      <td>9.020000</td>\n",
       "      <td>1.390000</td>\n",
       "      <td>74.140000</td>\n",
       "      <td>6.190000</td>\n",
       "    </tr>\n",
       "    <tr>\n",
       "      <th>max</th>\n",
       "      <td>22256.000000</td>\n",
       "      <td>75.180000</td>\n",
       "      <td>10.280000</td>\n",
       "      <td>2.410000</td>\n",
       "      <td>81.510000</td>\n",
       "      <td>7.140000</td>\n",
       "    </tr>\n",
       "  </tbody>\n",
       "</table>\n",
       "</div>"
      ],
      "text/plain": [
       "       Kasus Covid-19 (31 Des 2020)       TPAK        TPT  \\\n",
       "count                     27.000000  27.000000  27.000000   \n",
       "mean                    4202.444444  65.262963   7.794074   \n",
       "std                     5471.429755   2.771767   1.671253   \n",
       "min                      137.000000  61.310000   4.370000   \n",
       "25%                     1226.000000  63.505000   6.500000   \n",
       "50%                     2037.000000  65.380000   8.170000   \n",
       "75%                     4160.500000  66.400000   9.020000   \n",
       "max                    22256.000000  75.180000  10.280000   \n",
       "\n",
       "       Indeks Kedalaman Kemiskinan        IPM  Laju PDRB ADHK  \n",
       "count                    27.000000  27.000000       27.000000  \n",
       "mean                      1.161111  71.642963        5.539259  \n",
       "std                       0.490128   4.722253        0.966699  \n",
       "min                       0.290000  65.360000        3.200000  \n",
       "25%                       0.815000  68.070000        5.020000  \n",
       "50%                       1.080000  70.660000        5.490000  \n",
       "75%                       1.390000  74.140000        6.190000  \n",
       "max                       2.410000  81.510000        7.140000  "
      ]
     },
     "execution_count": 55,
     "metadata": {},
     "output_type": "execute_result"
    }
   ],
   "source": [
    "#Statistika Deskriptif\n",
    "data.describe()"
   ]
  },
  {
   "cell_type": "code",
   "execution_count": 56,
   "id": "f4e02037",
   "metadata": {},
   "outputs": [
    {
     "data": {
      "text/html": [
       "<div>\n",
       "<style scoped>\n",
       "    .dataframe tbody tr th:only-of-type {\n",
       "        vertical-align: middle;\n",
       "    }\n",
       "\n",
       "    .dataframe tbody tr th {\n",
       "        vertical-align: top;\n",
       "    }\n",
       "\n",
       "    .dataframe thead th {\n",
       "        text-align: right;\n",
       "    }\n",
       "</style>\n",
       "<table border=\"1\" class=\"dataframe\">\n",
       "  <thead>\n",
       "    <tr style=\"text-align: right;\">\n",
       "      <th></th>\n",
       "      <th>Kasus Covid-19 (31 Des 2020)</th>\n",
       "      <th>TPAK</th>\n",
       "      <th>TPT</th>\n",
       "      <th>Indeks Kedalaman Kemiskinan</th>\n",
       "      <th>IPM</th>\n",
       "      <th>Laju PDRB ADHK</th>\n",
       "    </tr>\n",
       "  </thead>\n",
       "  <tbody>\n",
       "    <tr>\n",
       "      <th>Kasus Covid-19 (31 Des 2020)</th>\n",
       "      <td>1.000000</td>\n",
       "      <td>-0.134081</td>\n",
       "      <td>0.006523</td>\n",
       "      <td>-0.548339</td>\n",
       "      <td>0.692421</td>\n",
       "      <td>0.102631</td>\n",
       "    </tr>\n",
       "    <tr>\n",
       "      <th>TPAK</th>\n",
       "      <td>-0.134081</td>\n",
       "      <td>1.000000</td>\n",
       "      <td>-0.581015</td>\n",
       "      <td>-0.056025</td>\n",
       "      <td>-0.174060</td>\n",
       "      <td>-0.058735</td>\n",
       "    </tr>\n",
       "    <tr>\n",
       "      <th>TPT</th>\n",
       "      <td>0.006523</td>\n",
       "      <td>-0.581015</td>\n",
       "      <td>1.000000</td>\n",
       "      <td>0.218299</td>\n",
       "      <td>0.053172</td>\n",
       "      <td>-0.356613</td>\n",
       "    </tr>\n",
       "    <tr>\n",
       "      <th>Indeks Kedalaman Kemiskinan</th>\n",
       "      <td>-0.548339</td>\n",
       "      <td>-0.056025</td>\n",
       "      <td>0.218299</td>\n",
       "      <td>1.000000</td>\n",
       "      <td>-0.450951</td>\n",
       "      <td>-0.123937</td>\n",
       "    </tr>\n",
       "    <tr>\n",
       "      <th>IPM</th>\n",
       "      <td>0.692421</td>\n",
       "      <td>-0.174060</td>\n",
       "      <td>0.053172</td>\n",
       "      <td>-0.450951</td>\n",
       "      <td>1.000000</td>\n",
       "      <td>0.376659</td>\n",
       "    </tr>\n",
       "    <tr>\n",
       "      <th>Laju PDRB ADHK</th>\n",
       "      <td>0.102631</td>\n",
       "      <td>-0.058735</td>\n",
       "      <td>-0.356613</td>\n",
       "      <td>-0.123937</td>\n",
       "      <td>0.376659</td>\n",
       "      <td>1.000000</td>\n",
       "    </tr>\n",
       "  </tbody>\n",
       "</table>\n",
       "</div>"
      ],
      "text/plain": [
       "                              Kasus Covid-19 (31 Des 2020)      TPAK  \\\n",
       "Kasus Covid-19 (31 Des 2020)                      1.000000 -0.134081   \n",
       "TPAK                                             -0.134081  1.000000   \n",
       "TPT                                               0.006523 -0.581015   \n",
       "Indeks Kedalaman Kemiskinan                      -0.548339 -0.056025   \n",
       "IPM                                               0.692421 -0.174060   \n",
       "Laju PDRB ADHK                                    0.102631 -0.058735   \n",
       "\n",
       "                                   TPT  Indeks Kedalaman Kemiskinan       IPM  \\\n",
       "Kasus Covid-19 (31 Des 2020)  0.006523                    -0.548339  0.692421   \n",
       "TPAK                         -0.581015                    -0.056025 -0.174060   \n",
       "TPT                           1.000000                     0.218299  0.053172   \n",
       "Indeks Kedalaman Kemiskinan   0.218299                     1.000000 -0.450951   \n",
       "IPM                           0.053172                    -0.450951  1.000000   \n",
       "Laju PDRB ADHK               -0.356613                    -0.123937  0.376659   \n",
       "\n",
       "                              Laju PDRB ADHK  \n",
       "Kasus Covid-19 (31 Des 2020)        0.102631  \n",
       "TPAK                               -0.058735  \n",
       "TPT                                -0.356613  \n",
       "Indeks Kedalaman Kemiskinan        -0.123937  \n",
       "IPM                                 0.376659  \n",
       "Laju PDRB ADHK                      1.000000  "
      ]
     },
     "execution_count": 56,
     "metadata": {},
     "output_type": "execute_result"
    }
   ],
   "source": [
    "#Korelasi Antar Variabel\n",
    "korelasi=data.corr()\n",
    "korelasi"
   ]
  },
  {
   "cell_type": "code",
   "execution_count": 57,
   "id": "cdcc98f4",
   "metadata": {},
   "outputs": [
    {
     "data": {
      "image/png": "[encoded data removed]",
      "text/plain": [
       "<Figure size 720x720 with 2 Axes>"
      ]
     },
     "metadata": {
      "needs_background": "light"
     },
     "output_type": "display_data"
    }
   ],
   "source": [
    "#Grafik Korelasi Antar Variabel\n",
    "f,ax = plt.subplots(figsize=(10, 10))\n",
    "sns.heatmap(korelasi, annot=True, linewidths=.05, fmt= '.1f', ax=ax)\n",
    "plt.title(\"Korelasi Antar Variabel pada Data Pertumbuhan Ekonomi Jawa Barat 2020\")\n",
    "plt.show()"
   ]
  },
  {
   "cell_type": "code",
   "execution_count": 58,
   "id": "b64733e4",
   "metadata": {},
   "outputs": [
    {
     "data": {
      "text/plain": [
       "<seaborn.axisgrid.PairGrid at 0x26221ebdc40>"
      ]
     },
     "execution_count": 58,
     "metadata": {},
     "output_type": "execute_result"
    },
    {
     "data": {
      "image/png": "[encoded data removed]",
      "text/plain": [
       "<Figure size 1080x1080 with 42 Axes>"
      ]
     },
     "metadata": {
      "needs_background": "light"
     },
     "output_type": "display_data"
    }
   ],
   "source": [
    "# visualisasi pairplot \n",
    "sns.pairplot(data=data,kind='scatter')"
   ]
  },
  {
   "cell_type": "code",
   "execution_count": 59,
   "id": "833fd039",
   "metadata": {},
   "outputs": [
    {
     "data": {
      "image/png": "[encoded data removed]",
      "text/plain": [
       "<Figure size 432x288 with 1 Axes>"
      ]
     },
     "metadata": {
      "needs_background": "light"
     },
     "output_type": "display_data"
    }
   ],
   "source": [
    "#Visualisasi Barchart Jumlah Kabupaten/Kota\n",
    "Type = data['Wilayah'].value_counts()\n",
    "\n",
    "sns.barplot(Type.index, Type.values, alpha=0.5)\n",
    "plt.title(\"Bar Chart Jumlah Kabupaten/Kota di Jawa Barat\")\n",
    "plt.show()"
   ]
  },
  {
   "cell_type": "markdown",
   "id": "89d717eb",
   "metadata": {},
   "source": [
    "Berdasarkan bar chart, bisa dilihat terdapat 18 Kabupaten dan 8 kota di Provinsi Jawa Barat"
   ]
  },
  {
   "cell_type": "code",
   "execution_count": 60,
   "id": "d55e2652",
   "metadata": {},
   "outputs": [
    {
     "data": {
      "text/plain": [
       "[<matplotlib.lines.Line2D at 0x2622329a490>]"
      ]
     },
     "execution_count": 60,
     "metadata": {},
     "output_type": "execute_result"
    },
    {
     "data": {
      "image/png": "[encoded data removed]",
      "text/plain": [
       "<Figure size 1296x576 with 2 Axes>"
      ]
     },
     "metadata": {
      "needs_background": "light"
     },
     "output_type": "display_data"
    }
   ],
   "source": [
    "#Visualisasi Pie Chart dan Barchart Kategori IPM\n",
    "f,ax=plt.subplots(1,2,figsize=(18,8))\n",
    "data['Kategori IPM'].value_counts().plot.pie(explode=[0.1,0.1,0.1],autopct='%1.1f%%',ax=ax[0],shadow=True)\n",
    "ax[0].plot('Kategori IPM')\n",
    "ax[0].plot('Count')\n",
    "sns.barplot(data['Kategori IPM'].value_counts().index, data['Kategori IPM'].value_counts().values, alpha=1)\n",
    "ax[0].plot('Kategori IPM')\n",
    "ax[0].plot('Count')"
   ]
  },
  {
   "cell_type": "code",
   "execution_count": 61,
   "id": "4d96dd9a",
   "metadata": {},
   "outputs": [
    {
     "data": {
      "text/plain": [
       "<seaborn.axisgrid.FacetGrid at 0x262232aa3d0>"
      ]
     },
     "execution_count": 61,
     "metadata": {},
     "output_type": "execute_result"
    },
    {
     "data": {
      "image/png": "[encoded data removed]",
      "text/plain": [
       "<Figure size 449.875x360 with 1 Axes>"
      ]
     },
     "metadata": {
      "needs_background": "light"
     },
     "output_type": "display_data"
    }
   ],
   "source": [
    "#Visualisasi Bar Chart Kategori IPM Berdasarkan Wilayah\n",
    "sns.catplot(x=\"Kategori IPM\", kind=\"count\",hue = 'Wilayah', palette=\"magma\", data=data)"
   ]
  },
  {
   "cell_type": "code",
   "execution_count": 62,
   "id": "5c03397b",
   "metadata": {},
   "outputs": [
    {
     "data": {
      "image/png": "[encoded data removed]",
      "text/plain": [
       "<Figure size 720x504 with 1 Axes>"
      ]
     },
     "metadata": {
      "needs_background": "light"
     },
     "output_type": "display_data"
    }
   ],
   "source": [
    "# visualisasi Boxplot Laju PDRB ADHK yang di kelompokkan berdasarkan \"Wilayah\"\n",
    "fig=plt.gcf()\n",
    "fig.set_size_inches(10,7)\n",
    "fig=sns.boxplot(x='Wilayah',y='Laju PDRB ADHK',data=data,order=['Kabupaten','Kota'],linewidth=2.5,orient=\"v\", palette = 'magma',dodge=False)"
   ]
  },
  {
   "cell_type": "code",
   "execution_count": 63,
   "id": "1fe544f2",
   "metadata": {},
   "outputs": [
    {
     "data": {
      "image/png": "[encoded data removed]",
      "text/plain": [
       "<Figure size 720x504 with 1 Axes>"
      ]
     },
     "metadata": {
      "needs_background": "light"
     },
     "output_type": "display_data"
    }
   ],
   "source": [
    "# visualisasi Boxplot Kasus Covid-19 (31 Des 2020) yang di kelompokkan berdasarkan \"Wilayah\"\n",
    "fig=plt.gcf()\n",
    "fig.set_size_inches(10,7)\n",
    "fig=sns.boxplot(x='Wilayah',y='Kasus Covid-19 (31 Des 2020)',data=data,order=['Kabupaten','Kota'],linewidth=2.5,orient=\"v\", palette = 'rainbow',dodge=False)"
   ]
  },
  {
   "cell_type": "code",
   "execution_count": 64,
   "id": "8edf00d9",
   "metadata": {},
   "outputs": [
    {
     "data": {
      "image/png": "[encoded data removed]",
      "text/plain": [
       "<Figure size 864x432 with 6 Axes>"
      ]
     },
     "metadata": {
      "needs_background": "light"
     },
     "output_type": "display_data"
    }
   ],
   "source": [
    "#Visualisasi Distribution Plot Setiap Variabel\n",
    "data.hist(linewidth=2)\n",
    "fig=plt.gcf()\n",
    "fig.set_size_inches(12,6)"
   ]
  },
  {
   "cell_type": "code",
   "execution_count": 65,
   "id": "b4edee81",
   "metadata": {},
   "outputs": [
    {
     "data": {
      "text/plain": [
       "<AxesSubplot:xlabel='Laju PDRB ADHK', ylabel='Density'>"
      ]
     },
     "execution_count": 65,
     "metadata": {},
     "output_type": "execute_result"
    },
    {
     "data": {
      "image/png": "[encoded data removed]",
      "text/plain": [
       "<Figure size 432x288 with 1 Axes>"
      ]
     },
     "metadata": {
      "needs_background": "light"
     },
     "output_type": "display_data"
    }
   ],
   "source": [
    "sns.distplot(data['Laju PDRB ADHK'])"
   ]
  },
  {
   "cell_type": "code",
   "execution_count": 66,
   "id": "95275b7e",
   "metadata": {},
   "outputs": [
    {
     "data": {
      "text/html": [
       "<div>\n",
       "<style scoped>\n",
       "    .dataframe tbody tr th:only-of-type {\n",
       "        vertical-align: middle;\n",
       "    }\n",
       "\n",
       "    .dataframe tbody tr th {\n",
       "        vertical-align: top;\n",
       "    }\n",
       "\n",
       "    .dataframe thead th {\n",
       "        text-align: right;\n",
       "    }\n",
       "</style>\n",
       "<table border=\"1\" class=\"dataframe\">\n",
       "  <thead>\n",
       "    <tr style=\"text-align: right;\">\n",
       "      <th></th>\n",
       "      <th>Kasus Covid-19 (31 Des 2020)</th>\n",
       "      <th>TPAK</th>\n",
       "      <th>TPT</th>\n",
       "      <th>Indeks Kedalaman Kemiskinan</th>\n",
       "      <th>IPM</th>\n",
       "    </tr>\n",
       "  </thead>\n",
       "  <tbody>\n",
       "    <tr>\n",
       "      <th>0</th>\n",
       "      <td>4428</td>\n",
       "      <td>65.42</td>\n",
       "      <td>9.06</td>\n",
       "      <td>0.83</td>\n",
       "      <td>70.40</td>\n",
       "    </tr>\n",
       "    <tr>\n",
       "      <th>1</th>\n",
       "      <td>2486</td>\n",
       "      <td>62.68</td>\n",
       "      <td>7.99</td>\n",
       "      <td>0.80</td>\n",
       "      <td>66.88</td>\n",
       "    </tr>\n",
       "    <tr>\n",
       "      <th>2</th>\n",
       "      <td>209</td>\n",
       "      <td>66.14</td>\n",
       "      <td>9.72</td>\n",
       "      <td>1.38</td>\n",
       "      <td>65.36</td>\n",
       "    </tr>\n",
       "    <tr>\n",
       "      <th>3</th>\n",
       "      <td>5944</td>\n",
       "      <td>65.38</td>\n",
       "      <td>5.48</td>\n",
       "      <td>0.92</td>\n",
       "      <td>72.39</td>\n",
       "    </tr>\n",
       "    <tr>\n",
       "      <th>4</th>\n",
       "      <td>3893</td>\n",
       "      <td>62.70</td>\n",
       "      <td>7.28</td>\n",
       "      <td>0.97</td>\n",
       "      <td>66.12</td>\n",
       "    </tr>\n",
       "    <tr>\n",
       "      <th>5</th>\n",
       "      <td>499</td>\n",
       "      <td>66.66</td>\n",
       "      <td>6.25</td>\n",
       "      <td>0.83</td>\n",
       "      <td>65.67</td>\n",
       "    </tr>\n",
       "    <tr>\n",
       "      <th>6</th>\n",
       "      <td>1415</td>\n",
       "      <td>67.56</td>\n",
       "      <td>5.10</td>\n",
       "      <td>0.92</td>\n",
       "      <td>70.49</td>\n",
       "    </tr>\n",
       "    <tr>\n",
       "      <th>7</th>\n",
       "      <td>1936</td>\n",
       "      <td>61.31</td>\n",
       "      <td>9.61</td>\n",
       "      <td>2.41</td>\n",
       "      <td>69.38</td>\n",
       "    </tr>\n",
       "    <tr>\n",
       "      <th>8</th>\n",
       "      <td>2844</td>\n",
       "      <td>65.38</td>\n",
       "      <td>10.28</td>\n",
       "      <td>1.30</td>\n",
       "      <td>68.75</td>\n",
       "    </tr>\n",
       "    <tr>\n",
       "      <th>9</th>\n",
       "      <td>1514</td>\n",
       "      <td>67.97</td>\n",
       "      <td>4.37</td>\n",
       "      <td>1.41</td>\n",
       "      <td>67.59</td>\n",
       "    </tr>\n",
       "    <tr>\n",
       "      <th>10</th>\n",
       "      <td>1299</td>\n",
       "      <td>63.98</td>\n",
       "      <td>7.63</td>\n",
       "      <td>1.72</td>\n",
       "      <td>71.64</td>\n",
       "    </tr>\n",
       "    <tr>\n",
       "      <th>11</th>\n",
       "      <td>790</td>\n",
       "      <td>67.89</td>\n",
       "      <td>8.28</td>\n",
       "      <td>2.18</td>\n",
       "      <td>67.29</td>\n",
       "    </tr>\n",
       "    <tr>\n",
       "      <th>12</th>\n",
       "      <td>1153</td>\n",
       "      <td>67.88</td>\n",
       "      <td>8.59</td>\n",
       "      <td>1.29</td>\n",
       "      <td>68.95</td>\n",
       "    </tr>\n",
       "    <tr>\n",
       "      <th>13</th>\n",
       "      <td>1804</td>\n",
       "      <td>63.93</td>\n",
       "      <td>9.65</td>\n",
       "      <td>1.04</td>\n",
       "      <td>70.82</td>\n",
       "    </tr>\n",
       "    <tr>\n",
       "      <th>14</th>\n",
       "      <td>8104</td>\n",
       "      <td>63.62</td>\n",
       "      <td>9.61</td>\n",
       "      <td>1.28</td>\n",
       "      <td>70.66</td>\n",
       "    </tr>\n",
       "    <tr>\n",
       "      <th>15</th>\n",
       "      <td>11269</td>\n",
       "      <td>64.03</td>\n",
       "      <td>8.94</td>\n",
       "      <td>0.72</td>\n",
       "      <td>74.07</td>\n",
       "    </tr>\n",
       "    <tr>\n",
       "      <th>16</th>\n",
       "      <td>2037</td>\n",
       "      <td>62.09</td>\n",
       "      <td>8.17</td>\n",
       "      <td>1.40</td>\n",
       "      <td>68.08</td>\n",
       "    </tr>\n",
       "    <tr>\n",
       "      <th>17</th>\n",
       "      <td>137</td>\n",
       "      <td>75.18</td>\n",
       "      <td>4.48</td>\n",
       "      <td>1.32</td>\n",
       "      <td>68.06</td>\n",
       "    </tr>\n",
       "    <tr>\n",
       "      <th>18</th>\n",
       "      <td>3644</td>\n",
       "      <td>63.73</td>\n",
       "      <td>9.10</td>\n",
       "      <td>1.08</td>\n",
       "      <td>76.11</td>\n",
       "    </tr>\n",
       "    <tr>\n",
       "      <th>19</th>\n",
       "      <td>1767</td>\n",
       "      <td>62.56</td>\n",
       "      <td>8.44</td>\n",
       "      <td>1.17</td>\n",
       "      <td>74.21</td>\n",
       "    </tr>\n",
       "    <tr>\n",
       "      <th>20</th>\n",
       "      <td>7907</td>\n",
       "      <td>65.98</td>\n",
       "      <td>8.16</td>\n",
       "      <td>0.61</td>\n",
       "      <td>81.51</td>\n",
       "    </tr>\n",
       "    <tr>\n",
       "      <th>21</th>\n",
       "      <td>585</td>\n",
       "      <td>62.84</td>\n",
       "      <td>8.98</td>\n",
       "      <td>1.68</td>\n",
       "      <td>74.89</td>\n",
       "    </tr>\n",
       "    <tr>\n",
       "      <th>22</th>\n",
       "      <td>19136</td>\n",
       "      <td>65.70</td>\n",
       "      <td>8.23</td>\n",
       "      <td>0.60</td>\n",
       "      <td>81.50</td>\n",
       "    </tr>\n",
       "    <tr>\n",
       "      <th>23</th>\n",
       "      <td>22256</td>\n",
       "      <td>65.03</td>\n",
       "      <td>6.11</td>\n",
       "      <td>0.29</td>\n",
       "      <td>80.97</td>\n",
       "    </tr>\n",
       "    <tr>\n",
       "      <th>24</th>\n",
       "      <td>3206</td>\n",
       "      <td>63.39</td>\n",
       "      <td>8.08</td>\n",
       "      <td>0.75</td>\n",
       "      <td>77.83</td>\n",
       "    </tr>\n",
       "    <tr>\n",
       "      <th>25</th>\n",
       "      <td>2735</td>\n",
       "      <td>65.38</td>\n",
       "      <td>6.75</td>\n",
       "      <td>1.75</td>\n",
       "      <td>73.04</td>\n",
       "    </tr>\n",
       "    <tr>\n",
       "      <th>26</th>\n",
       "      <td>469</td>\n",
       "      <td>67.69</td>\n",
       "      <td>6.10</td>\n",
       "      <td>0.70</td>\n",
       "      <td>71.70</td>\n",
       "    </tr>\n",
       "  </tbody>\n",
       "</table>\n",
       "</div>"
      ],
      "text/plain": [
       "    Kasus Covid-19 (31 Des 2020)   TPAK    TPT  Indeks Kedalaman Kemiskinan  \\\n",
       "0                           4428  65.42   9.06                         0.83   \n",
       "1                           2486  62.68   7.99                         0.80   \n",
       "2                            209  66.14   9.72                         1.38   \n",
       "3                           5944  65.38   5.48                         0.92   \n",
       "4                           3893  62.70   7.28                         0.97   \n",
       "5                            499  66.66   6.25                         0.83   \n",
       "6                           1415  67.56   5.10                         0.92   \n",
       "7                           1936  61.31   9.61                         2.41   \n",
       "8                           2844  65.38  10.28                         1.30   \n",
       "9                           1514  67.97   4.37                         1.41   \n",
       "10                          1299  63.98   7.63                         1.72   \n",
       "11                           790  67.89   8.28                         2.18   \n",
       "12                          1153  67.88   8.59                         1.29   \n",
       "13                          1804  63.93   9.65                         1.04   \n",
       "14                          8104  63.62   9.61                         1.28   \n",
       "15                         11269  64.03   8.94                         0.72   \n",
       "16                          2037  62.09   8.17                         1.40   \n",
       "17                           137  75.18   4.48                         1.32   \n",
       "18                          3644  63.73   9.10                         1.08   \n",
       "19                          1767  62.56   8.44                         1.17   \n",
       "20                          7907  65.98   8.16                         0.61   \n",
       "21                           585  62.84   8.98                         1.68   \n",
       "22                         19136  65.70   8.23                         0.60   \n",
       "23                         22256  65.03   6.11                         0.29   \n",
       "24                          3206  63.39   8.08                         0.75   \n",
       "25                          2735  65.38   6.75                         1.75   \n",
       "26                           469  67.69   6.10                         0.70   \n",
       "\n",
       "      IPM  \n",
       "0   70.40  \n",
       "1   66.88  \n",
       "2   65.36  \n",
       "3   72.39  \n",
       "4   66.12  \n",
       "5   65.67  \n",
       "6   70.49  \n",
       "7   69.38  \n",
       "8   68.75  \n",
       "9   67.59  \n",
       "10  71.64  \n",
       "11  67.29  \n",
       "12  68.95  \n",
       "13  70.82  \n",
       "14  70.66  \n",
       "15  74.07  \n",
       "16  68.08  \n",
       "17  68.06  \n",
       "18  76.11  \n",
       "19  74.21  \n",
       "20  81.51  \n",
       "21  74.89  \n",
       "22  81.50  \n",
       "23  80.97  \n",
       "24  77.83  \n",
       "25  73.04  \n",
       "26  71.70  "
      ]
     },
     "metadata": {},
     "output_type": "display_data"
    },
    {
     "data": {
      "text/plain": [
       "0     5.85\n",
       "1     5.75\n",
       "2     5.47\n",
       "3     6.09\n",
       "4     5.02\n",
       "5     5.43\n",
       "6     5.38\n",
       "7     6.56\n",
       "8     4.86\n",
       "9     7.14\n",
       "10    6.32\n",
       "11    3.20\n",
       "12    4.27\n",
       "13    4.38\n",
       "14    4.06\n",
       "15    4.18\n",
       "16    5.05\n",
       "17    5.96\n",
       "18    6.04\n",
       "19    5.49\n",
       "20    6.79\n",
       "21    6.29\n",
       "22    5.41\n",
       "23    6.74\n",
       "24    6.84\n",
       "25    5.97\n",
       "26    5.02\n",
       "Name: Laju PDRB ADHK, dtype: float64"
      ]
     },
     "metadata": {},
     "output_type": "display_data"
    }
   ],
   "source": [
    "#Mengidentifikasi Variabel Prediktor dan Variabel Respon\n",
    "#Variabel Prediktor --> Kasus Covid-19 (31 Des 2020),TPAK,TPT,Indeks Kedalaman Kemiskinan,IPM\n",
    "x = data[['Kasus Covid-19 (31 Des 2020)', 'TPAK','TPT','Indeks Kedalaman Kemiskinan','IPM']]\n",
    "\n",
    "#Variabel Respon --> Laju PDRB ADHK\n",
    "y = data['Laju PDRB ADHK']\n",
    "\n",
    "display(x)\n",
    "display(y)"
   ]
  },
  {
   "cell_type": "code",
   "execution_count": 96,
   "id": "a058ece1",
   "metadata": {},
   "outputs": [],
   "source": [
    "#Split Data menjadi Data Training dan Data Testing (Train Size=0,7 ; Test Size=0,3 ; Random State=1100)\n",
    "x_train,x_test,y_train,y_test = train_test_split(x, y, train_size = 0.7, test_size = 0.3, random_state =1100)"
   ]
  },
  {
   "cell_type": "code",
   "execution_count": 112,
   "id": "1f69e056",
   "metadata": {},
   "outputs": [],
   "source": [
    "from sklearn import metrics\n",
    "from sklearn.model_selection import cross_val_score\n",
    "\n",
    "def cross_val(model):\n",
    "    pred = cross_val_score(model, x, y, cv=10)\n",
    "    return pred.mean()\n",
    "\n",
    "def print_evaluate(true, predicted):  \n",
    "    mae = metrics.mean_absolute_error(true, predicted)\n",
    "    mse = metrics.mean_squared_error(true, predicted)\n",
    "    rmse = np.sqrt(metrics.mean_squared_error(true, predicted))\n",
    "    r2_square = metrics.r2_score(true, predicted)\n",
    "    print('MAE:', mae)\n",
    "    print('MSE:', mse)\n",
    "    print('RMSE:', rmse)\n",
    "    print('R2 Square', r2_square)\n",
    "    print('__________________________________')\n",
    "    \n",
    "def evaluate(true, predicted):\n",
    "    mae = metrics.mean_absolute_error(true, predicted)\n",
    "    mse = metrics.mean_squared_error(true, predicted)\n",
    "    rmse = np.sqrt(metrics.mean_squared_error(true, predicted))\n",
    "    r2_square = metrics.r2_score(true, predicted)\n",
    "    return mae, mse, rmse, r2_square"
   ]
  },
  {
   "cell_type": "code",
   "execution_count": 97,
   "id": "09617ec1",
   "metadata": {},
   "outputs": [],
   "source": [
    "#Membuat object variabel Linear regression\n",
    "regressor = LinearRegression()"
   ]
  },
  {
   "cell_type": "code",
   "execution_count": 98,
   "id": "743fecc3",
   "metadata": {},
   "outputs": [
    {
     "data": {
      "text/plain": [
       "LinearRegression()"
      ]
     },
     "execution_count": 98,
     "metadata": {},
     "output_type": "execute_result"
    }
   ],
   "source": [
    "#Training the Model menggunakan training data yang sudah displit sebelumnya\n",
    "regressor.fit(x_train, y_train)"
   ]
  },
  {
   "cell_type": "code",
   "execution_count": 99,
   "id": "d474461f",
   "metadata": {},
   "outputs": [
    {
     "name": "stdout",
     "output_type": "stream",
     "text": [
      "[-1.19014048e-04 -1.14198853e-01 -3.01752596e-01  1.46720593e-01\n",
      "  1.65047489e-01]\n",
      "3.6386962361282444\n"
     ]
    }
   ],
   "source": [
    "#Menghitung nilai slope/koefisien (m) dan intercept (b),\n",
    "print(regressor.coef_)\n",
    "print(regressor.intercept_)"
   ]
  },
  {
   "cell_type": "code",
   "execution_count": null,
   "id": "38902e54",
   "metadata": {},
   "outputs": [],
   "source": [
    "Maka persamaan garis:\n",
    "    y = 3.6386962361282444 - 0.000119014048x1 - 0.114198853x2 - 0.301752596x3 + 0.146720593x4"
   ]
  },
  {
   "cell_type": "markdown",
   "id": "59e5688f",
   "metadata": {},
   "source": [
    "Berdasarkan nilai koefisien dan intercept didapatkan model regresi yaitu"
   ]
  },
  {
   "cell_type": "code",
   "execution_count": 100,
   "id": "293514b0",
   "metadata": {},
   "outputs": [
    {
     "data": {
      "text/plain": [
       "-0.9028489753429956"
      ]
     },
     "execution_count": 100,
     "metadata": {},
     "output_type": "execute_result"
    }
   ],
   "source": [
    "# Menghitung accuracy score dari model regresi menggunakan testing data yang sudah displit sebelumnya\n",
    "regressor.score(x_test,y_test)"
   ]
  },
  {
   "cell_type": "code",
   "execution_count": 101,
   "id": "3b86236a",
   "metadata": {},
   "outputs": [
    {
     "name": "stdout",
     "output_type": "stream",
     "text": [
      "Correlation:  0.9028489753429956\n"
     ]
    }
   ],
   "source": [
    "print('Correlation: ', math.fabs(regressor.score(x_test,y_test)))"
   ]
  },
  {
   "cell_type": "code",
   "execution_count": 113,
   "id": "d765f1ea",
   "metadata": {},
   "outputs": [],
   "source": [
    "#Memprediksi hasil Test set\n",
    "y_pred = regressor.predict(x_test)"
   ]
  },
  {
   "cell_type": "code",
   "execution_count": 115,
   "id": "a0b12701",
   "metadata": {},
   "outputs": [
    {
     "name": "stdout",
     "output_type": "stream",
     "text": [
      "Test set evaluation:\n",
      "_____________________________________\n",
      "MAE: 0.8384741232052432\n",
      "MSE: 0.9581948713096937\n",
      "RMSE: 0.9788742877968006\n",
      "R2 Square -0.9028489753429956\n",
      "__________________________________\n",
      "Train set evaluation:\n",
      "_____________________________________\n",
      "MAE: 0.5602860596431716\n",
      "MSE: 0.47319534631337273\n",
      "RMSE: 0.6878919583142201\n",
      "R2 Square 0.49432335733975064\n",
      "__________________________________\n"
     ]
    }
   ],
   "source": [
    "test_pred = regressor.predict(x_test)\n",
    "train_pred =  regressor.predict(x_train)\n",
    "\n",
    "print('Test set evaluation:\\n_____________________________________')\n",
    "print_evaluate(y_test, test_pred)\n",
    "print('Train set evaluation:\\n_____________________________________')\n",
    "print_evaluate(y_train, train_pred)"
   ]
  },
  {
   "cell_type": "code",
   "execution_count": 116,
   "id": "63060a33",
   "metadata": {},
   "outputs": [
    {
     "data": {
      "text/html": [
       "<div>\n",
       "<style scoped>\n",
       "    .dataframe tbody tr th:only-of-type {\n",
       "        vertical-align: middle;\n",
       "    }\n",
       "\n",
       "    .dataframe tbody tr th {\n",
       "        vertical-align: top;\n",
       "    }\n",
       "\n",
       "    .dataframe thead th {\n",
       "        text-align: right;\n",
       "    }\n",
       "</style>\n",
       "<table border=\"1\" class=\"dataframe\">\n",
       "  <thead>\n",
       "    <tr style=\"text-align: right;\">\n",
       "      <th></th>\n",
       "      <th>Model</th>\n",
       "      <th>MAE</th>\n",
       "      <th>MSE</th>\n",
       "      <th>RMSE</th>\n",
       "      <th>R2 Square</th>\n",
       "      <th>Cross Validation</th>\n",
       "    </tr>\n",
       "  </thead>\n",
       "  <tbody>\n",
       "    <tr>\n",
       "      <th>0</th>\n",
       "      <td>Linear Regression</td>\n",
       "      <td>0.838474</td>\n",
       "      <td>0.958195</td>\n",
       "      <td>0.978874</td>\n",
       "      <td>-0.902849</td>\n",
       "      <td>-45.170606</td>\n",
       "    </tr>\n",
       "  </tbody>\n",
       "</table>\n",
       "</div>"
      ],
      "text/plain": [
       "               Model       MAE       MSE      RMSE  R2 Square  \\\n",
       "0  Linear Regression  0.838474  0.958195  0.978874  -0.902849   \n",
       "\n",
       "   Cross Validation  \n",
       "0        -45.170606  "
      ]
     },
     "execution_count": 116,
     "metadata": {},
     "output_type": "execute_result"
    }
   ],
   "source": [
    "#Evaluasi Data Testing\n",
    "results_df = pd.DataFrame(data=[[\"Linear Regression\", *evaluate(y_test, test_pred) , cross_val(LinearRegression())]], \n",
    "                          columns=['Model', 'MAE', 'MSE', 'RMSE', 'R2 Square', \"Cross Validation\"])\n",
    "results_df"
   ]
  }
 ],
 "metadata": {
  "kernelspec": {
   "display_name": "Python 3",
   "language": "python",
   "name": "python3"
  },
  "language_info": {
   "codemirror_mode": {
    "name": "ipython",
    "version": 3
   },
   "file_extension": ".py",
   "mimetype": "text/x-python",
   "name": "python",
   "nbconvert_exporter": "python",
   "pygments_lexer": "ipython3",
   "version": "3.8.8"
  }
 },
 "nbformat": 4,
 "nbformat_minor": 5
}
